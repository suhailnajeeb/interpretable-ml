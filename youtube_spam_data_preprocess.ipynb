{
 "cells": [
  {
   "cell_type": "code",
   "execution_count": 97,
   "metadata": {},
   "outputs": [],
   "source": [
    "import wget\n",
    "import pandas as pd\n",
    "import re"
   ]
  },
  {
   "cell_type": "code",
   "execution_count": 98,
   "metadata": {},
   "outputs": [],
   "source": [
    "urls = [ 'http://lasid.sor.ufscar.br/labeling/datasets/'+ str(x) + '/download/' for x in range(9,14)]"
   ]
  },
  {
   "cell_type": "code",
   "execution_count": 99,
   "metadata": {},
   "outputs": [
    {
     "data": {
      "text/plain": [
       "['http://lasid.sor.ufscar.br/labeling/datasets/9/download/',\n",
       " 'http://lasid.sor.ufscar.br/labeling/datasets/10/download/',\n",
       " 'http://lasid.sor.ufscar.br/labeling/datasets/11/download/',\n",
       " 'http://lasid.sor.ufscar.br/labeling/datasets/12/download/',\n",
       " 'http://lasid.sor.ufscar.br/labeling/datasets/13/download/']"
      ]
     },
     "execution_count": 99,
     "metadata": {},
     "output_type": "execute_result"
    }
   ],
   "source": [
    "urls"
   ]
  },
  {
   "cell_type": "code",
   "execution_count": 100,
   "metadata": {},
   "outputs": [],
   "source": [
    "dfs = []\n",
    "for url in urls:\n",
    "    dfs.append(pd.read_csv(url, index_col = 'COMMENT_ID'))"
   ]
  },
  {
   "cell_type": "code",
   "execution_count": 101,
   "metadata": {},
   "outputs": [
    {
     "name": "stdout",
     "output_type": "stream",
     "text": [
      "(350, 4)\n",
      "(350, 4)\n",
      "(438, 4)\n",
      "(448, 4)\n",
      "(370, 4)\n"
     ]
    }
   ],
   "source": [
    "for df in dfs:\n",
    "    print(df.shape)"
   ]
  },
  {
   "cell_type": "code",
   "execution_count": 125,
   "metadata": {},
   "outputs": [],
   "source": [
    "df_merged = pd.concat(dfs)"
   ]
  },
  {
   "cell_type": "code",
   "execution_count": 126,
   "metadata": {},
   "outputs": [
    {
     "data": {
      "text/plain": [
       "(1956, 4)"
      ]
     },
     "execution_count": 126,
     "metadata": {},
     "output_type": "execute_result"
    }
   ],
   "source": [
    "df_merged.shape"
   ]
  },
  {
   "cell_type": "code",
   "execution_count": 127,
   "metadata": {},
   "outputs": [],
   "source": [
    "cleanFun = lambda htmlstring: re.sub(\"<.*?>\", \"\", htmlstring)"
   ]
  },
  {
   "cell_type": "code",
   "execution_count": 128,
   "metadata": {},
   "outputs": [],
   "source": [
    "df_merged['CONTENT'] = df_merged['CONTENT'].apply(cleanFun)"
   ]
  },
  {
   "cell_type": "code",
   "execution_count": 129,
   "metadata": {},
   "outputs": [
    {
     "data": {
      "text/html": [
       "<div>\n",
       "<style scoped>\n",
       "    .dataframe tbody tr th:only-of-type {\n",
       "        vertical-align: middle;\n",
       "    }\n",
       "\n",
       "    .dataframe tbody tr th {\n",
       "        vertical-align: top;\n",
       "    }\n",
       "\n",
       "    .dataframe thead th {\n",
       "        text-align: right;\n",
       "    }\n",
       "</style>\n",
       "<table border=\"1\" class=\"dataframe\">\n",
       "  <thead>\n",
       "    <tr style=\"text-align: right;\">\n",
       "      <th></th>\n",
       "      <th>AUTHOR</th>\n",
       "      <th>DATE</th>\n",
       "      <th>CONTENT</th>\n",
       "      <th>CLASS</th>\n",
       "    </tr>\n",
       "    <tr>\n",
       "      <th>COMMENT_ID</th>\n",
       "      <th></th>\n",
       "      <th></th>\n",
       "      <th></th>\n",
       "      <th></th>\n",
       "    </tr>\n",
       "  </thead>\n",
       "  <tbody>\n",
       "    <tr>\n",
       "      <th>LZQPQhLyRh80UYxNuaDWhIGQYNQ96IuCg-AYWqNPjpU</th>\n",
       "      <td>Julius NM</td>\n",
       "      <td>2013-11-07T06:20:48</td>\n",
       "      <td>Huh, anyway check out this you[tube] channel: ...</td>\n",
       "      <td>1</td>\n",
       "    </tr>\n",
       "    <tr>\n",
       "      <th>LZQPQhLyRh_C2cTtd9MvFRJedxydaVW-2sNg5Diuo4A</th>\n",
       "      <td>adam riyati</td>\n",
       "      <td>2013-11-07T12:37:15</td>\n",
       "      <td>Hey guys check out my new channel and our firs...</td>\n",
       "      <td>1</td>\n",
       "    </tr>\n",
       "    <tr>\n",
       "      <th>LZQPQhLyRh9MSZYnf8djyk0gEF9BHDPYrrK-qCczIY8</th>\n",
       "      <td>Evgeny Murashkin</td>\n",
       "      <td>2013-11-08T17:34:21</td>\n",
       "      <td>just for test I have to say murdev.com</td>\n",
       "      <td>1</td>\n",
       "    </tr>\n",
       "    <tr>\n",
       "      <th>z13jhp0bxqncu512g22wvzkasxmvvzjaz04</th>\n",
       "      <td>ElNino Melendez</td>\n",
       "      <td>2013-11-09T08:28:43</td>\n",
       "      <td>me shaking my sexy ass on my channel enjoy ^_^ ﻿</td>\n",
       "      <td>1</td>\n",
       "    </tr>\n",
       "    <tr>\n",
       "      <th>z13fwbwp1oujthgqj04chlngpvzmtt3r3dw</th>\n",
       "      <td>GsMega</td>\n",
       "      <td>2013-11-10T16:05:38</td>\n",
       "      <td>watch?v=vtaRGgvGtWQ   Check this out .﻿</td>\n",
       "      <td>1</td>\n",
       "    </tr>\n",
       "    <tr>\n",
       "      <th>...</th>\n",
       "      <td>...</td>\n",
       "      <td>...</td>\n",
       "      <td>...</td>\n",
       "      <td>...</td>\n",
       "    </tr>\n",
       "    <tr>\n",
       "      <th>z12mtx5hxnutsxzfn23tsljjrm2mwxtwm04</th>\n",
       "      <td>Олег Пась</td>\n",
       "      <td>2014-11-03T23:29:00</td>\n",
       "      <td>Plizz withing my channel ﻿</td>\n",
       "      <td>1</td>\n",
       "    </tr>\n",
       "    <tr>\n",
       "      <th>z121ft552pzpzhiab04cffmwitfii3lr5v40k</th>\n",
       "      <td>Crooked Gaming</td>\n",
       "      <td>2014-11-04T00:00:57</td>\n",
       "      <td>I made a gaming channel (Unique right?) :L Ang...</td>\n",
       "      <td>1</td>\n",
       "    </tr>\n",
       "    <tr>\n",
       "      <th>z135jnejqyylxvxc323tifugxr3idl1oq04</th>\n",
       "      <td>Monwar Sarkar</td>\n",
       "      <td>2014-11-04T00:18:07</td>\n",
       "      <td>Please help me go here http://www.gofundme.com...</td>\n",
       "      <td>1</td>\n",
       "    </tr>\n",
       "    <tr>\n",
       "      <th>z13zfpqpvpyvwfymk232ux4odsr1s5wm0</th>\n",
       "      <td>Jack ToadROXMK</td>\n",
       "      <td>2014-11-04T02:00:14</td>\n",
       "      <td>Anybody who subscribes to me will get 10 subsc...</td>\n",
       "      <td>1</td>\n",
       "    </tr>\n",
       "    <tr>\n",
       "      <th>z13sx1mitrmpcls3f22hi5ep1yq5cvmld</th>\n",
       "      <td>roflcopter2110</td>\n",
       "      <td>2014-11-04T02:22:06</td>\n",
       "      <td>http://thepiratebay.se/torrent/6381501/Timothy...</td>\n",
       "      <td>1</td>\n",
       "    </tr>\n",
       "  </tbody>\n",
       "</table>\n",
       "<p>100 rows × 4 columns</p>\n",
       "</div>"
      ],
      "text/plain": [
       "                                                       AUTHOR  \\\n",
       "COMMENT_ID                                                      \n",
       "LZQPQhLyRh80UYxNuaDWhIGQYNQ96IuCg-AYWqNPjpU         Julius NM   \n",
       "LZQPQhLyRh_C2cTtd9MvFRJedxydaVW-2sNg5Diuo4A       adam riyati   \n",
       "LZQPQhLyRh9MSZYnf8djyk0gEF9BHDPYrrK-qCczIY8  Evgeny Murashkin   \n",
       "z13jhp0bxqncu512g22wvzkasxmvvzjaz04           ElNino Melendez   \n",
       "z13fwbwp1oujthgqj04chlngpvzmtt3r3dw                    GsMega   \n",
       "...                                                       ...   \n",
       "z12mtx5hxnutsxzfn23tsljjrm2mwxtwm04                 Олег Пась   \n",
       "z121ft552pzpzhiab04cffmwitfii3lr5v40k          Crooked Gaming   \n",
       "z135jnejqyylxvxc323tifugxr3idl1oq04             Monwar Sarkar   \n",
       "z13zfpqpvpyvwfymk232ux4odsr1s5wm0              Jack ToadROXMK   \n",
       "z13sx1mitrmpcls3f22hi5ep1yq5cvmld              roflcopter2110   \n",
       "\n",
       "                                                            DATE  \\\n",
       "COMMENT_ID                                                         \n",
       "LZQPQhLyRh80UYxNuaDWhIGQYNQ96IuCg-AYWqNPjpU  2013-11-07T06:20:48   \n",
       "LZQPQhLyRh_C2cTtd9MvFRJedxydaVW-2sNg5Diuo4A  2013-11-07T12:37:15   \n",
       "LZQPQhLyRh9MSZYnf8djyk0gEF9BHDPYrrK-qCczIY8  2013-11-08T17:34:21   \n",
       "z13jhp0bxqncu512g22wvzkasxmvvzjaz04          2013-11-09T08:28:43   \n",
       "z13fwbwp1oujthgqj04chlngpvzmtt3r3dw          2013-11-10T16:05:38   \n",
       "...                                                          ...   \n",
       "z12mtx5hxnutsxzfn23tsljjrm2mwxtwm04          2014-11-03T23:29:00   \n",
       "z121ft552pzpzhiab04cffmwitfii3lr5v40k        2014-11-04T00:00:57   \n",
       "z135jnejqyylxvxc323tifugxr3idl1oq04          2014-11-04T00:18:07   \n",
       "z13zfpqpvpyvwfymk232ux4odsr1s5wm0            2014-11-04T02:00:14   \n",
       "z13sx1mitrmpcls3f22hi5ep1yq5cvmld            2014-11-04T02:22:06   \n",
       "\n",
       "                                                                                       CONTENT  \\\n",
       "COMMENT_ID                                                                                       \n",
       "LZQPQhLyRh80UYxNuaDWhIGQYNQ96IuCg-AYWqNPjpU  Huh, anyway check out this you[tube] channel: ...   \n",
       "LZQPQhLyRh_C2cTtd9MvFRJedxydaVW-2sNg5Diuo4A  Hey guys check out my new channel and our firs...   \n",
       "LZQPQhLyRh9MSZYnf8djyk0gEF9BHDPYrrK-qCczIY8             just for test I have to say murdev.com   \n",
       "z13jhp0bxqncu512g22wvzkasxmvvzjaz04           me shaking my sexy ass on my channel enjoy ^_^ ﻿   \n",
       "z13fwbwp1oujthgqj04chlngpvzmtt3r3dw                    watch?v=vtaRGgvGtWQ   Check this out .﻿   \n",
       "...                                                                                        ...   \n",
       "z12mtx5hxnutsxzfn23tsljjrm2mwxtwm04                                 Plizz withing my channel ﻿   \n",
       "z121ft552pzpzhiab04cffmwitfii3lr5v40k        I made a gaming channel (Unique right?) :L Ang...   \n",
       "z135jnejqyylxvxc323tifugxr3idl1oq04          Please help me go here http://www.gofundme.com...   \n",
       "z13zfpqpvpyvwfymk232ux4odsr1s5wm0            Anybody who subscribes to me will get 10 subsc...   \n",
       "z13sx1mitrmpcls3f22hi5ep1yq5cvmld            http://thepiratebay.se/torrent/6381501/Timothy...   \n",
       "\n",
       "                                             CLASS  \n",
       "COMMENT_ID                                          \n",
       "LZQPQhLyRh80UYxNuaDWhIGQYNQ96IuCg-AYWqNPjpU      1  \n",
       "LZQPQhLyRh_C2cTtd9MvFRJedxydaVW-2sNg5Diuo4A      1  \n",
       "LZQPQhLyRh9MSZYnf8djyk0gEF9BHDPYrrK-qCczIY8      1  \n",
       "z13jhp0bxqncu512g22wvzkasxmvvzjaz04              1  \n",
       "z13fwbwp1oujthgqj04chlngpvzmtt3r3dw              1  \n",
       "...                                            ...  \n",
       "z12mtx5hxnutsxzfn23tsljjrm2mwxtwm04              1  \n",
       "z121ft552pzpzhiab04cffmwitfii3lr5v40k            1  \n",
       "z135jnejqyylxvxc323tifugxr3idl1oq04              1  \n",
       "z13zfpqpvpyvwfymk232ux4odsr1s5wm0                1  \n",
       "z13sx1mitrmpcls3f22hi5ep1yq5cvmld                1  \n",
       "\n",
       "[100 rows x 4 columns]"
      ]
     },
     "execution_count": 129,
     "metadata": {},
     "output_type": "execute_result"
    }
   ],
   "source": [
    "df_merged.head(100)"
   ]
  },
  {
   "cell_type": "code",
   "execution_count": 130,
   "metadata": {},
   "outputs": [
    {
     "data": {
      "text/plain": [
       "(1956, 4)"
      ]
     },
     "execution_count": 130,
     "metadata": {},
     "output_type": "execute_result"
    }
   ],
   "source": [
    "df_merged.shape"
   ]
  },
  {
   "cell_type": "code",
   "execution_count": 131,
   "metadata": {},
   "outputs": [],
   "source": [
    "export_path = 'Data/Youtube-spam-comments/TubeSpam.csv'"
   ]
  },
  {
   "cell_type": "code",
   "execution_count": 132,
   "metadata": {},
   "outputs": [],
   "source": [
    "# trying to replace the emojis. but ended up replacing them with ? marks. \n",
    "\n",
    "#df_merged['CONTENT'] = df_merged['CONTENT'].str.encode(\"ASCII\", errors = 'replace')"
   ]
  },
  {
   "cell_type": "code",
   "execution_count": 133,
   "metadata": {},
   "outputs": [],
   "source": [
    "df_merged.to_csv(export_path)"
   ]
  },
  {
   "cell_type": "code",
   "execution_count": 134,
   "metadata": {},
   "outputs": [
    {
     "data": {
      "text/plain": [
       "AUTHOR     object\n",
       "DATE       object\n",
       "CONTENT    object\n",
       "CLASS       int64\n",
       "dtype: object"
      ]
     },
     "execution_count": 134,
     "metadata": {},
     "output_type": "execute_result"
    }
   ],
   "source": [
    "df_merged.dtypes"
   ]
  },
  {
   "cell_type": "code",
   "execution_count": null,
   "metadata": {},
   "outputs": [],
   "source": []
  }
 ],
 "metadata": {
  "kernelspec": {
   "display_name": "Python 3",
   "language": "python",
   "name": "python3"
  },
  "language_info": {
   "codemirror_mode": {
    "name": "ipython",
    "version": 3
   },
   "file_extension": ".py",
   "mimetype": "text/x-python",
   "name": "python",
   "nbconvert_exporter": "python",
   "pygments_lexer": "ipython3",
   "version": "3.7.6"
  }
 },
 "nbformat": 4,
 "nbformat_minor": 4
}
